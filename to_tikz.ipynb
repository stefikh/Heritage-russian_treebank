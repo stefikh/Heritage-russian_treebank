{
 "cells": [
  {
   "cell_type": "code",
   "execution_count": 18,
   "id": "971cccd8",
   "metadata": {},
   "outputs": [],
   "source": [
    "def for_tikz_format(text):\n",
    "    words_tikz = []\n",
    "    pos_tags = []\n",
    "    dependency = []\n",
    "    from_what_depend = []\n",
    "    tree = [line for line in text.split('\\n')]\n",
    "    for word in tree:\n",
    "        word = word.split('\\t')\n",
    "        words_tikz.append(word[1])\n",
    "        pos_tags.append(word[3])\n",
    "        dependency.append(word[7])\n",
    "        from_what_depend.append(word[6])\n",
    "    return words_tikz, pos_tags, dependency, from_what_depend"
   ]
  },
  {
   "cell_type": "code",
   "execution_count": 19,
   "id": "972e7e3a",
   "metadata": {},
   "outputs": [],
   "source": [
    "t = '1\tДругое\tдругой\tDET\t_\tCase=Nom|Gender=Neut|Number=Sing|PronType=Tot\t2\tnsubj:pass\t_\tConstr=Кроме того\\n2\tограничено\tограничить\tVERB\t_\tAspect=Perf|Gender=Neut|Number=Sing|Tense=Past|Variant=Short|VerbForm=Part|Voice=Pass\t0\troot\t_\t_\\n3\tвыдаче\tвыдача\tNOUN\t_\tAnimacy=Inan|Case=Dat|Gender=Fem|Number=Sing\t2\tiobj\t_\t_\\n4\tнаименования\tнаименование\tNOUN\t_\tAnimacy=Inan|Case=Gen|Gender=Neut|Number=Sing\t3\tnmod\t_\t_\\n5\t—\t—\tPUNCT\t_\t_\t10\tpunct\t_\t_\\n6\tкак\tкак\tSCONJ\t_\t_\t7\tmark\t_\t_\\n7\tправило\tправило\tNOUN\t_\tAnimacy=Inan|Case=Nom|Gender=Neut|Number=Sing\t10\tparataxis\t_\tSpaceAfter=No\\n8\t,\t,\tPUNCT\t_\t_\t7\tpunct\t_\t_\\n9\tодна\tодин\tNUM\t_\tCase=Nom|Gender=Fem|Number=Sing|NumForm=Word|NumType=Card\t10\tnummod\t_\t_\\n10\tкнига\tкнига\tNOUN\t_\tAnimacy=Inan|Case=Nom|Gender=Fem|Number=Sing\t4\tparataxis\t_\t_\\n11\tв\tв\tADP\t_\t_\t13\tcase\t_\t_\\n12\tодни\tодин\tDET\t_\tAnimacy=Inan|Case=Acc|Number=Plur|PronType=Ind\t13\tdet\t_\t_\\n13\tруки\tрука\tNOUN\t_\tAnimacy=Inan|Case=Acc|Gender=Fem|Number=Plur\t10\tnmod\t_\tSpaceAfter=No\\n14\t.\t.\tPUNCT\t_\t_\t2\tpunct\t_\tSpacesAfter=\\r'"
   ]
  },
  {
   "cell_type": "code",
   "execution_count": 20,
   "id": "fb0a5e38",
   "metadata": {},
   "outputs": [],
   "source": [
    "words_tikz, pos_tags, dependency, from_what_depend = for_tikz_format(t)"
   ]
  },
  {
   "cell_type": "code",
   "execution_count": 21,
   "id": "e5fff48c",
   "metadata": {},
   "outputs": [],
   "source": [
    "tikz = []\n",
    "line_words = ' \\& '.join(words_tikz)+ ' \\\\\\\\'\n",
    "line_tags =  ' \\& '.join(pos_tags)+ ' \\\\\\\\'\n",
    "\n",
    "lines_dependency = []\n",
    "i = 0\n",
    "for element in dependency: #я знаю, что можно через f записывать, но там проблемы с {} получаются\n",
    "    if element!= 'root':\n",
    "        line_dependency = '\\depedge'+'{'+str(int(from_what_depend[i]))+'}'+'{'+str(i+1)+'}'+'{'+element+'}'\n",
    "        lines_dependency.append(line_dependency)\n",
    "    else:\n",
    "        line_dependency = '\\deproot'+'{'+str(i+1)+'}'+'{root}'\n",
    "        lines_dependency.append(line_dependency)\n",
    "    i+=1\n",
    "    \n",
    "lines_dependency_final = []\n",
    "lines_dependency_final.append('\\n'.join(lines_dependency))\n",
    "tikz.append(r'\\begin{deptext}[column sep=.5cm, row sep=.1ex]')\n",
    "tikz.append(line_words)\n",
    "tikz.append(line_tags)\n",
    "tikz.append('\\end{deptext}')\n",
    "tikz.append('\\n'.join(lines_dependency_final))\n",
    "tikz = '\\n'.join(tikz)"
   ]
  },
  {
   "cell_type": "code",
   "execution_count": 22,
   "id": "84fea419",
   "metadata": {},
   "outputs": [],
   "source": [
    "with open('for_tikz.txt', 'w', encoding='utf-8') as f:\n",
    "    f.write(tikz)"
   ]
  },
  {
   "cell_type": "code",
   "execution_count": null,
   "id": "f35daa20",
   "metadata": {},
   "outputs": [],
   "source": []
  }
 ],
 "metadata": {
  "kernelspec": {
   "display_name": "Python 3 (ipykernel)",
   "language": "python",
   "name": "python3"
  },
  "language_info": {
   "codemirror_mode": {
    "name": "ipython",
    "version": 3
   },
   "file_extension": ".py",
   "mimetype": "text/x-python",
   "name": "python",
   "nbconvert_exporter": "python",
   "pygments_lexer": "ipython3",
   "version": "3.9.13"
  }
 },
 "nbformat": 4,
 "nbformat_minor": 5
}
