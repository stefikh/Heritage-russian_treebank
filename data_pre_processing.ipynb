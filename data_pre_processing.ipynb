{
 "cells": [
  {
   "cell_type": "code",
   "execution_count": 25,
   "id": "da5fa2a2",
   "metadata": {
    "scrolled": false
   },
   "outputs": [],
   "source": [
    "from tqdm import tqdm\n",
    "import re\n",
    "import pandas as pd\n",
    "import os\n",
    "from transliterate import translit\n",
    "import os"
   ]
  },
  {
   "cell_type": "markdown",
   "id": "25daeb03",
   "metadata": {},
   "source": [
    "Работаем с примерами из RLC."
   ]
  },
  {
   "cell_type": "code",
   "execution_count": 8,
   "id": "1e943682",
   "metadata": {},
   "outputs": [],
   "source": [
    "def open_table(file):\n",
    "    xl = pd.ExcelFile(file)\n",
    "    df1 = xl.parse('Sheet1')\n",
    "    df_rlc = df1.iloc [:, [0,3,4,5,6,8,9,10,11,12,13,14]] #Выбираем те столбцы, которые могут понадобиться.\n",
    "    df_rlc = df_rlc.fillna('') #NaN заменяем '', чтобы не возникало ошибок при дальнейшей работе программы.\n",
    "    return df_rlc"
   ]
  },
  {
   "cell_type": "code",
   "execution_count": 9,
   "id": "ed0e2d1d",
   "metadata": {
    "scrolled": true
   },
   "outputs": [],
   "source": [
    "df_1_rlc = open_table('results_1_100.xlsx')"
   ]
  },
  {
   "cell_type": "code",
   "execution_count": 5,
   "id": "a7618eb1",
   "metadata": {
    "scrolled": true
   },
   "outputs": [
    {
     "data": {
      "text/html": [
       "<div>\n",
       "<style scoped>\n",
       "    .dataframe tbody tr th:only-of-type {\n",
       "        vertical-align: middle;\n",
       "    }\n",
       "\n",
       "    .dataframe tbody tr th {\n",
       "        vertical-align: top;\n",
       "    }\n",
       "\n",
       "    .dataframe thead th {\n",
       "        text-align: right;\n",
       "    }\n",
       "</style>\n",
       "<table border=\"1\" class=\"dataframe\">\n",
       "  <thead>\n",
       "    <tr style=\"text-align: right;\">\n",
       "      <th></th>\n",
       "      <th>Номер примера</th>\n",
       "      <th>Автор</th>\n",
       "      <th>Язык</th>\n",
       "      <th>Русский язык</th>\n",
       "      <th>Уровень</th>\n",
       "      <th>Оригинальное предложение</th>\n",
       "      <th>Исправленное предложение</th>\n",
       "      <th>Тег</th>\n",
       "      <th>Ошибка</th>\n",
       "      <th>Исправление</th>\n",
       "      <th>Разметчик</th>\n",
       "      <th>Комментарий</th>\n",
       "    </tr>\n",
       "  </thead>\n",
       "  <tbody>\n",
       "    <tr>\n",
       "      <th>0</th>\n",
       "      <td>1</td>\n",
       "      <td>Katya (F, HL, AM)</td>\n",
       "      <td>eng</td>\n",
       "      <td>HL</td>\n",
       "      <td>AM</td>\n",
       "      <td>Этот металл может сохраняться в организме чело...</td>\n",
       "      <td>Этот металл может сохраняться в организме чело...</td>\n",
       "      <td>Syntax</td>\n",
       "      <td>воздействую</td>\n",
       "      <td>воздействуя</td>\n",
       "      <td>Annotator1</td>\n",
       "      <td></td>\n",
       "    </tr>\n",
       "    <tr>\n",
       "      <th>1</th>\n",
       "      <td>1</td>\n",
       "      <td>Katya (F, HL, AM)</td>\n",
       "      <td>eng</td>\n",
       "      <td>HL</td>\n",
       "      <td>AM</td>\n",
       "      <td>Этот металл может сохраняться в организме чело...</td>\n",
       "      <td>Этот металл может сохраняться в организме чело...</td>\n",
       "      <td>Ortho, Altern</td>\n",
       "      <td>желудожно-кишечный</td>\n",
       "      <td>желудочно-кишечный</td>\n",
       "      <td>MZambrzhitskaya</td>\n",
       "      <td></td>\n",
       "    </tr>\n",
       "    <tr>\n",
       "      <th>2</th>\n",
       "      <td>2</td>\n",
       "      <td>Katya (F, HL, AM)</td>\n",
       "      <td>eng</td>\n",
       "      <td>HL</td>\n",
       "      <td>AM</td>\n",
       "      <td>Основной путь попадания свинца в организм - {{...</td>\n",
       "      <td>Основной путь попадания свинца в организм - * ...</td>\n",
       "      <td>Syntax, Insert, Transfer</td>\n",
       "      <td>это</td>\n",
       "      <td></td>\n",
       "      <td>Annotator1</td>\n",
       "      <td></td>\n",
       "    </tr>\n",
       "    <tr>\n",
       "      <th>3</th>\n",
       "      <td>3</td>\n",
       "      <td>Olga (F, HL, AL)</td>\n",
       "      <td>eng</td>\n",
       "      <td>HL</td>\n",
       "      <td>AL</td>\n",
       "      <td>Стали строил монументальные здания чтобы эти з...</td>\n",
       "      <td>*Сталин* строил монументальные *здания,* чтобы...</td>\n",
       "      <td>Ortho</td>\n",
       "      <td>Стали</td>\n",
       "      <td>Сталин</td>\n",
       "      <td>ubagryanskaya</td>\n",
       "      <td></td>\n",
       "    </tr>\n",
       "    <tr>\n",
       "      <th>4</th>\n",
       "      <td>3</td>\n",
       "      <td>Olga (F, HL, AL)</td>\n",
       "      <td>eng</td>\n",
       "      <td>HL</td>\n",
       "      <td>AL</td>\n",
       "      <td>Стали строил монументальные здания чтобы эти з...</td>\n",
       "      <td>*Сталин* строил монументальные *здания,* чтобы...</td>\n",
       "      <td>Ref</td>\n",
       "      <td>эти здания</td>\n",
       "      <td>они</td>\n",
       "      <td>ubagryanskaya</td>\n",
       "      <td></td>\n",
       "    </tr>\n",
       "    <tr>\n",
       "      <th>...</th>\n",
       "      <td>...</td>\n",
       "      <td>...</td>\n",
       "      <td>...</td>\n",
       "      <td>...</td>\n",
       "      <td>...</td>\n",
       "      <td>...</td>\n",
       "      <td>...</td>\n",
       "      <td>...</td>\n",
       "      <td>...</td>\n",
       "      <td>...</td>\n",
       "      <td>...</td>\n",
       "      <td>...</td>\n",
       "    </tr>\n",
       "    <tr>\n",
       "      <th>1027</th>\n",
       "      <td>425</td>\n",
       "      <td>Anna (F, HL, AL)</td>\n",
       "      <td>eng</td>\n",
       "      <td>HL</td>\n",
       "      <td>AL</td>\n",
       "      <td>Дети привыкают к вкусу такой пищи и так же {{р...</td>\n",
       "      <td>Дети привыкают к вкусу такой пищи и так же рек...</td>\n",
       "      <td>syntax</td>\n",
       "      <td>рекламам</td>\n",
       "      <td></td>\n",
       "      <td>admin</td>\n",
       "      <td></td>\n",
       "    </tr>\n",
       "    <tr>\n",
       "      <th>1028</th>\n",
       "      <td>425</td>\n",
       "      <td>Anna (F, HL, AL)</td>\n",
       "      <td>eng</td>\n",
       "      <td>HL</td>\n",
       "      <td>AL</td>\n",
       "      <td>Дети привыкают к вкусу такой пищи и так же {{р...</td>\n",
       "      <td>Дети привыкают к вкусу такой пищи и так же рек...</td>\n",
       "      <td>orpho</td>\n",
       "      <td>превычки</td>\n",
       "      <td></td>\n",
       "      <td>admin</td>\n",
       "      <td></td>\n",
       "    </tr>\n",
       "    <tr>\n",
       "      <th>1029</th>\n",
       "      <td>426</td>\n",
       "      <td>Anna (F, HL, AL)</td>\n",
       "      <td>eng</td>\n",
       "      <td>HL</td>\n",
       "      <td>AL</td>\n",
       "      <td>{{По}} {{статистике}}, {{если}} {{у}} {{одного...</td>\n",
       "      <td>По статистике если у одного родителя избыточны...</td>\n",
       "      <td>syntax</td>\n",
       "      <td></td>\n",
       "      <td>у</td>\n",
       "      <td>admin</td>\n",
       "      <td></td>\n",
       "    </tr>\n",
       "    <tr>\n",
       "      <th>1030</th>\n",
       "      <td>427</td>\n",
       "      <td>Anna (F, HL, AL)</td>\n",
       "      <td>eng</td>\n",
       "      <td>HL</td>\n",
       "      <td>AL</td>\n",
       "      <td>{{между}} 16% и 33% детей и подростков имели и...</td>\n",
       "      <td>между 16% и 33% детей и подростков имели избыт...</td>\n",
       "      <td>syntax</td>\n",
       "      <td>между</td>\n",
       "      <td></td>\n",
       "      <td>admin</td>\n",
       "      <td></td>\n",
       "    </tr>\n",
       "    <tr>\n",
       "      <th>1031</th>\n",
       "      <td>428</td>\n",
       "      <td>Anna (F, HL, AL)</td>\n",
       "      <td>eng</td>\n",
       "      <td>HL</td>\n",
       "      <td>AL</td>\n",
       "      <td>Две {{главные}} причины: расширение сфер влиян...</td>\n",
       "      <td>Две * и* причины: расширение сфер влияния СССР...</td>\n",
       "      <td>Syntax</td>\n",
       "      <td>.</td>\n",
       "      <td>и</td>\n",
       "      <td>NGordeev</td>\n",
       "      <td>Необоснованный разрыв предложения</td>\n",
       "    </tr>\n",
       "  </tbody>\n",
       "</table>\n",
       "<p>1032 rows × 12 columns</p>\n",
       "</div>"
      ],
      "text/plain": [
       "      Номер примера              Автор Язык Русский язык Уровень  \\\n",
       "0                 1  Katya (F, HL, AM)  eng           HL      AM   \n",
       "1                 1  Katya (F, HL, AM)  eng           HL      AM   \n",
       "2                 2  Katya (F, HL, AM)  eng           HL      AM   \n",
       "3                 3   Olga (F, HL, AL)  eng           HL      AL   \n",
       "4                 3   Olga (F, HL, AL)  eng           HL      AL   \n",
       "...             ...                ...  ...          ...     ...   \n",
       "1027            425   Anna (F, HL, AL)  eng           HL      AL   \n",
       "1028            425   Anna (F, HL, AL)  eng           HL      AL   \n",
       "1029            426   Anna (F, HL, AL)  eng           HL      AL   \n",
       "1030            427   Anna (F, HL, AL)  eng           HL      AL   \n",
       "1031            428   Anna (F, HL, AL)  eng           HL      AL   \n",
       "\n",
       "                               Оригинальное предложение  \\\n",
       "0     Этот металл может сохраняться в организме чело...   \n",
       "1     Этот металл может сохраняться в организме чело...   \n",
       "2     Основной путь попадания свинца в организм - {{...   \n",
       "3     Стали строил монументальные здания чтобы эти з...   \n",
       "4     Стали строил монументальные здания чтобы эти з...   \n",
       "...                                                 ...   \n",
       "1027  Дети привыкают к вкусу такой пищи и так же {{р...   \n",
       "1028  Дети привыкают к вкусу такой пищи и так же {{р...   \n",
       "1029  {{По}} {{статистике}}, {{если}} {{у}} {{одного...   \n",
       "1030  {{между}} 16% и 33% детей и подростков имели и...   \n",
       "1031  Две {{главные}} причины: расширение сфер влиян...   \n",
       "\n",
       "                               Исправленное предложение  \\\n",
       "0     Этот металл может сохраняться в организме чело...   \n",
       "1     Этот металл может сохраняться в организме чело...   \n",
       "2     Основной путь попадания свинца в организм - * ...   \n",
       "3     *Сталин* строил монументальные *здания,* чтобы...   \n",
       "4     *Сталин* строил монументальные *здания,* чтобы...   \n",
       "...                                                 ...   \n",
       "1027  Дети привыкают к вкусу такой пищи и так же рек...   \n",
       "1028  Дети привыкают к вкусу такой пищи и так же рек...   \n",
       "1029  По статистике если у одного родителя избыточны...   \n",
       "1030  между 16% и 33% детей и подростков имели избыт...   \n",
       "1031  Две * и* причины: расширение сфер влияния СССР...   \n",
       "\n",
       "                           Тег              Ошибка         Исправление  \\\n",
       "0                       Syntax         воздействую         воздействуя   \n",
       "1                Ortho, Altern  желудожно-кишечный  желудочно-кишечный   \n",
       "2     Syntax, Insert, Transfer                 это                       \n",
       "3                        Ortho               Стали              Сталин   \n",
       "4                          Ref          эти здания                 они   \n",
       "...                        ...                 ...                 ...   \n",
       "1027                    syntax            рекламам                       \n",
       "1028                     orpho            превычки                       \n",
       "1029                    syntax                                      у    \n",
       "1030                    syntax               между                       \n",
       "1031                    Syntax                   .                   и   \n",
       "\n",
       "            Разметчик                        Комментарий  \n",
       "0          Annotator1                                     \n",
       "1     MZambrzhitskaya                                     \n",
       "2          Annotator1                                     \n",
       "3       ubagryanskaya                                     \n",
       "4       ubagryanskaya                                     \n",
       "...               ...                                ...  \n",
       "1027            admin                                     \n",
       "1028            admin                                     \n",
       "1029            admin                                     \n",
       "1030            admin                                     \n",
       "1031         NGordeev  Необоснованный разрыв предложения  \n",
       "\n",
       "[1032 rows x 12 columns]"
      ]
     },
     "execution_count": 5,
     "metadata": {},
     "output_type": "execute_result"
    }
   ],
   "source": [
    "df_1_rlc"
   ]
  },
  {
   "cell_type": "code",
   "execution_count": 10,
   "id": "5d493dcc",
   "metadata": {},
   "outputs": [],
   "source": [
    "def to_str(df):\n",
    "    str_for_dict = (df['Оригинальное предложение'] + ' | ' + df['Тег'] + ' | ' + df['Ошибка']+ ' | ' + df['Исправление']).to_list()\n",
    "    return str_for_dict"
   ]
  },
  {
   "cell_type": "code",
   "execution_count": 11,
   "id": "de703fdf",
   "metadata": {},
   "outputs": [],
   "source": [
    "list_1_rlc = to_str(df_1_rlc)"
   ]
  },
  {
   "cell_type": "code",
   "execution_count": 12,
   "id": "d8f38ba4",
   "metadata": {},
   "outputs": [],
   "source": [
    "def dict_from_list(list_from_str):\n",
    "    dict_df_rlc = {}\n",
    "\n",
    "    for element in tqdm(list_from_str):\n",
    "        element = element.split(' | ')\n",
    "        sentence = element[0]\n",
    "        sentence = sentence.replace('{{', '')\n",
    "        sentence = sentence.replace('}}', '')\n",
    "        if sentence[0] != '&':\n",
    "            if sentence[0] == '.':\n",
    "                sentence = sentence[1:] \n",
    "            if sentence[len(sentence)-1] != '.':\n",
    "                sentence = sentence + '.'\n",
    "            if sentence not in dict_df_rlc:\n",
    "                dict_df_rlc[sentence] = dict({'Tag': [], 'Mistake': [], 'Correct': []})\n",
    "                dict_df_rlc[sentence]['Tag'].append(element[1])\n",
    "                dict_df_rlc[sentence]['Mistake'].append(element[2])\n",
    "                dict_df_rlc[sentence]['Correct'].append(element[3])\n",
    "    return dict_df_rlc"
   ]
  },
  {
   "cell_type": "code",
   "execution_count": 13,
   "id": "69e01c3c",
   "metadata": {},
   "outputs": [
    {
     "name": "stderr",
     "output_type": "stream",
     "text": [
      "100%|██████████████████████████████████████████████████████████████████████████| 1032/1032 [00:00<00:00, 344600.09it/s]\n"
     ]
    }
   ],
   "source": [
    "dict_df_1_rlc = dict_from_list(list_1_rlc)"
   ]
  },
  {
   "cell_type": "code",
   "execution_count": 18,
   "id": "acf13109",
   "metadata": {},
   "outputs": [],
   "source": [
    "def to_file_for_udpipe(dict_rlc):\n",
    "    with open('original_rlc.txt', 'a', encoding = 'utf-8') as f:\n",
    "        for element in dict_rlc:\n",
    "            f.write(element)\n",
    "            f.write('\\n')\n",
    "    return f"
   ]
  },
  {
   "cell_type": "code",
   "execution_count": 19,
   "id": "f17eb706",
   "metadata": {},
   "outputs": [
    {
     "data": {
      "text/plain": [
       "<_io.TextIOWrapper name='original_rlc.txt' mode='a' encoding='utf-8'>"
      ]
     },
     "execution_count": 19,
     "metadata": {},
     "output_type": "execute_result"
    }
   ],
   "source": [
    "to_file_for_udpipe(dict_df_1_rlc)"
   ]
  },
  {
   "cell_type": "markdown",
   "id": "1eb98dad",
   "metadata": {},
   "source": [
    "Работаем с расшифровками."
   ]
  },
  {
   "cell_type": "code",
   "execution_count": 2,
   "id": "5c83ff00",
   "metadata": {},
   "outputs": [],
   "source": [
    "def from_file(path_text):\n",
    "    with open('all_texts.txt', 'a', encoding='utf-8') as f_main:\n",
    "        for filename in os.listdir(path_text):\n",
    "            with open(os.path.join(path_text, filename), 'r') as f:\n",
    "                for line in f.readlines():\n",
    "                    if '*CHI:' in line:\n",
    "                        if '\\\\tab' in line:\n",
    "                            line = line.split('\\\\tab')\n",
    "                        elif '\\t' in line:\n",
    "                            line = line.split('\\t')\n",
    "                        line_new = line[1]\n",
    "                        line_new = line_new[:-2]\n",
    "                        f_main.write(line_new)\n",
    "                        f_main.write('\\n')\n",
    "    return f_main"
   ]
  },
  {
   "cell_type": "code",
   "execution_count": 3,
   "id": "6ef129a3",
   "metadata": {},
   "outputs": [
    {
     "data": {
      "text/plain": [
       "<_io.TextIOWrapper name='all_texts.txt' mode='a' encoding='utf-8'>"
      ]
     },
     "execution_count": 3,
     "metadata": {},
     "output_type": "execute_result"
    }
   ],
   "source": [
    "from_file('texts_transl')"
   ]
  },
  {
   "cell_type": "code",
   "execution_count": 12,
   "id": "91764b5c",
   "metadata": {},
   "outputs": [],
   "source": [
    "def translit_to_rus(file):\n",
    "    lines = []\n",
    "    with open('all_texts.txt', 'r', encoding='utf-8') as f:\n",
    "        with open('translit.txt', 'a', encoding='utf-8') as f2:  \n",
    "            for line in f.readlines():\n",
    "                ru_text = translit(line, 'ru')\n",
    "                ru_text = ru_text.replace('@', '')\n",
    "                ru_text = ru_text.replace('[', '')\n",
    "                ru_text = ru_text.replace(']', '')\n",
    "                ru_text = ru_text.replace('+/', '')\n",
    "                ru_text = ru_text.replace('/', '')\n",
    "                ru_text = ru_text.replace('#', '')\n",
    "                ru_text = ru_text.replace('=', '')\n",
    "                ru_text = ru_text.replace('&', '')\n",
    "                ru_text = ru_text.replace('2', '')\n",
    "                ru_text = ru_text.replace('0', '')\n",
    "                ru_text = ru_text.replace('е~', 'э')\n",
    "                ru_text = ru_text.replace('Е~', 'Э')\n",
    "                if ru_text[-2] != '.' and ru_text[-2] != '?':\n",
    "                    ru_text = ru_text.replace(ru_text[-1], '.\\n')\n",
    "                if len(ru_text.split()) > 2:\n",
    "                    if 'xxx' not in ru_text:\n",
    "                        if ru_text not in lines:\n",
    "                            f2.write(ru_text)\n",
    "                            lines.append(ru_text)\n",
    "    return f2"
   ]
  },
  {
   "cell_type": "code",
   "execution_count": 13,
   "id": "081ad1d5",
   "metadata": {
    "scrolled": true
   },
   "outputs": [
    {
     "data": {
      "text/plain": [
       "<_io.TextIOWrapper name='translit.txt' mode='a' encoding='utf-8'>"
      ]
     },
     "execution_count": 13,
     "metadata": {},
     "output_type": "execute_result"
    }
   ],
   "source": [
    "translit_to_rus('all_texts.txt')"
   ]
  },
  {
   "cell_type": "markdown",
   "id": "b4f1795c",
   "metadata": {},
   "source": [
    "Расшифровки без транслитерации"
   ]
  },
  {
   "cell_type": "code",
   "execution_count": 93,
   "id": "dff5625d",
   "metadata": {},
   "outputs": [],
   "source": [
    "def txt_rus(path_text):\n",
    "    lines = []\n",
    "    with open('txt_rus.txt', 'a', encoding='utf-8') as f_main:\n",
    "        for filename in os.listdir(path_text):\n",
    "            with open(os.path.join(path_text, filename), 'r', encoding='utf-16-le') as f:\n",
    "                for line in f.readlines():\n",
    "                    if '*CHI:' in line:\n",
    "                        line = line.split('\\t')\n",
    "                        line_new = line[1]\n",
    "                        line_new = line_new.replace('&', '')\n",
    "                        line_new = line_new.replace('@', '')\n",
    "                        line_new = line_new.replace('[', '')\n",
    "                        line_new = line_new.replace(']', '')\n",
    "                        line_new = line_new.replace('2', '')\n",
    "                        line_new = line_new.replace('+/', '')\n",
    "                        line_new = line_new.replace('#', '')\n",
    "                        line_new = line_new.replace('(', '')\n",
    "                        line_new = line_new.replace(')', '')\n",
    "                        line_new = line_new.replace('2', '')\n",
    "                        line_new = line_new.replace('/', '')\n",
    "                        line_new = line_new.replace('errv-', '')\n",
    "                        if len(line_new.split()) > 2:\n",
    "                            if ('xxx' not in line_new) and ('ххх' not in line_new) and ('=' not in line_new):\n",
    "                                if line_new not in lines:\n",
    "                                    f_main.write(line_new)\n",
    "                                    lines.append(line_new)\n",
    "    return f_main"
   ]
  },
  {
   "cell_type": "code",
   "execution_count": 94,
   "id": "799c4999",
   "metadata": {
    "scrolled": false
   },
   "outputs": [
    {
     "data": {
      "text/plain": [
       "<_io.TextIOWrapper name='txt_rus.txt' mode='a' encoding='utf-8'>"
      ]
     },
     "execution_count": 94,
     "metadata": {},
     "output_type": "execute_result"
    }
   ],
   "source": [
    "txt_rus('texts')"
   ]
  }
 ],
 "metadata": {
  "kernelspec": {
   "display_name": "Python 3 (ipykernel)",
   "language": "python",
   "name": "python3"
  },
  "language_info": {
   "codemirror_mode": {
    "name": "ipython",
    "version": 3
   },
   "file_extension": ".py",
   "mimetype": "text/x-python",
   "name": "python",
   "nbconvert_exporter": "python",
   "pygments_lexer": "ipython3",
   "version": "3.9.13"
  }
 },
 "nbformat": 4,
 "nbformat_minor": 5
}
