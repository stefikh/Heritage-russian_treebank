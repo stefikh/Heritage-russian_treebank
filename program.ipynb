{
 "cells": [
  {
   "cell_type": "code",
   "execution_count": 1,
   "id": "da5fa2a2",
   "metadata": {
    "scrolled": false
   },
   "outputs": [],
   "source": [
    "from tqdm import tqdm\n",
    "import re\n",
    "import pandas as pd\n",
    "import os\n",
    "from transliterate import translit\n",
    "import pymorphy2\n",
    "from pyaspeller import Word"
   ]
  },
  {
   "cell_type": "markdown",
   "id": "25daeb03",
   "metadata": {},
   "source": [
    "Работаем с примерами из RLC."
   ]
  },
  {
   "cell_type": "code",
   "execution_count": 5,
   "id": "1e943682",
   "metadata": {},
   "outputs": [],
   "source": [
    "def open_table(file):\n",
    "    xl = pd.ExcelFile(file)\n",
    "    df1 = xl.parse('Sheet1')\n",
    "    df_rlc = df1.iloc [:, [0,3,4,5,6,8,9,10,11,12,13,14]] #Выбираем те столбцы, которые могут понадобиться.\n",
    "    df_rlc = df_rlc.fillna('') #NaN заменяем '', чтобы не возникало ошибок при дальнейшей работе программы.\n",
    "    return df_rlc"
   ]
  },
  {
   "cell_type": "code",
   "execution_count": 6,
   "id": "ed0e2d1d",
   "metadata": {
    "scrolled": true
   },
   "outputs": [],
   "source": [
    "df_1_rlc = open_table('results_1_100.xlsx')"
   ]
  },
  {
   "cell_type": "code",
   "execution_count": 7,
   "id": "a7618eb1",
   "metadata": {
    "scrolled": true
   },
   "outputs": [
    {
     "data": {
      "text/html": [
       "<div>\n",
       "<style scoped>\n",
       "    .dataframe tbody tr th:only-of-type {\n",
       "        vertical-align: middle;\n",
       "    }\n",
       "\n",
       "    .dataframe tbody tr th {\n",
       "        vertical-align: top;\n",
       "    }\n",
       "\n",
       "    .dataframe thead th {\n",
       "        text-align: right;\n",
       "    }\n",
       "</style>\n",
       "<table border=\"1\" class=\"dataframe\">\n",
       "  <thead>\n",
       "    <tr style=\"text-align: right;\">\n",
       "      <th></th>\n",
       "      <th>Номер примера</th>\n",
       "      <th>Автор</th>\n",
       "      <th>Язык</th>\n",
       "      <th>Русский язык</th>\n",
       "      <th>Уровень</th>\n",
       "      <th>Оригинальное предложение</th>\n",
       "      <th>Исправленное предложение</th>\n",
       "      <th>Тег</th>\n",
       "      <th>Ошибка</th>\n",
       "      <th>Исправление</th>\n",
       "      <th>Разметчик</th>\n",
       "      <th>Комментарий</th>\n",
       "    </tr>\n",
       "  </thead>\n",
       "  <tbody>\n",
       "    <tr>\n",
       "      <th>0</th>\n",
       "      <td>1</td>\n",
       "      <td>Katya (F, HL, AM)</td>\n",
       "      <td>eng</td>\n",
       "      <td>HL</td>\n",
       "      <td>AM</td>\n",
       "      <td>Этот металл может сохраняться в организме чело...</td>\n",
       "      <td>Этот металл может сохраняться в организме чело...</td>\n",
       "      <td>Syntax</td>\n",
       "      <td>воздействую</td>\n",
       "      <td>воздействуя</td>\n",
       "      <td>Annotator1</td>\n",
       "      <td></td>\n",
       "    </tr>\n",
       "    <tr>\n",
       "      <th>1</th>\n",
       "      <td>1</td>\n",
       "      <td>Katya (F, HL, AM)</td>\n",
       "      <td>eng</td>\n",
       "      <td>HL</td>\n",
       "      <td>AM</td>\n",
       "      <td>Этот металл может сохраняться в организме чело...</td>\n",
       "      <td>Этот металл может сохраняться в организме чело...</td>\n",
       "      <td>Ortho, Altern</td>\n",
       "      <td>желудожно-кишечный</td>\n",
       "      <td>желудочно-кишечный</td>\n",
       "      <td>MZambrzhitskaya</td>\n",
       "      <td></td>\n",
       "    </tr>\n",
       "    <tr>\n",
       "      <th>2</th>\n",
       "      <td>2</td>\n",
       "      <td>Katya (F, HL, AM)</td>\n",
       "      <td>eng</td>\n",
       "      <td>HL</td>\n",
       "      <td>AM</td>\n",
       "      <td>Основной путь попадания свинца в организм - {{...</td>\n",
       "      <td>Основной путь попадания свинца в организм - * ...</td>\n",
       "      <td>Syntax, Insert, Transfer</td>\n",
       "      <td>это</td>\n",
       "      <td></td>\n",
       "      <td>Annotator1</td>\n",
       "      <td></td>\n",
       "    </tr>\n",
       "    <tr>\n",
       "      <th>3</th>\n",
       "      <td>3</td>\n",
       "      <td>Olga (F, HL, AL)</td>\n",
       "      <td>eng</td>\n",
       "      <td>HL</td>\n",
       "      <td>AL</td>\n",
       "      <td>Стали строил монументальные здания чтобы эти з...</td>\n",
       "      <td>*Сталин* строил монументальные *здания,* чтобы...</td>\n",
       "      <td>Ortho</td>\n",
       "      <td>Стали</td>\n",
       "      <td>Сталин</td>\n",
       "      <td>ubagryanskaya</td>\n",
       "      <td></td>\n",
       "    </tr>\n",
       "    <tr>\n",
       "      <th>4</th>\n",
       "      <td>3</td>\n",
       "      <td>Olga (F, HL, AL)</td>\n",
       "      <td>eng</td>\n",
       "      <td>HL</td>\n",
       "      <td>AL</td>\n",
       "      <td>Стали строил монументальные здания чтобы эти з...</td>\n",
       "      <td>*Сталин* строил монументальные *здания,* чтобы...</td>\n",
       "      <td>Ref</td>\n",
       "      <td>эти здания</td>\n",
       "      <td>они</td>\n",
       "      <td>ubagryanskaya</td>\n",
       "      <td></td>\n",
       "    </tr>\n",
       "    <tr>\n",
       "      <th>...</th>\n",
       "      <td>...</td>\n",
       "      <td>...</td>\n",
       "      <td>...</td>\n",
       "      <td>...</td>\n",
       "      <td>...</td>\n",
       "      <td>...</td>\n",
       "      <td>...</td>\n",
       "      <td>...</td>\n",
       "      <td>...</td>\n",
       "      <td>...</td>\n",
       "      <td>...</td>\n",
       "      <td>...</td>\n",
       "    </tr>\n",
       "    <tr>\n",
       "      <th>1027</th>\n",
       "      <td>425</td>\n",
       "      <td>Anna (F, HL, AL)</td>\n",
       "      <td>eng</td>\n",
       "      <td>HL</td>\n",
       "      <td>AL</td>\n",
       "      <td>Дети привыкают к вкусу такой пищи и так же {{р...</td>\n",
       "      <td>Дети привыкают к вкусу такой пищи и так же рек...</td>\n",
       "      <td>syntax</td>\n",
       "      <td>рекламам</td>\n",
       "      <td></td>\n",
       "      <td>admin</td>\n",
       "      <td></td>\n",
       "    </tr>\n",
       "    <tr>\n",
       "      <th>1028</th>\n",
       "      <td>425</td>\n",
       "      <td>Anna (F, HL, AL)</td>\n",
       "      <td>eng</td>\n",
       "      <td>HL</td>\n",
       "      <td>AL</td>\n",
       "      <td>Дети привыкают к вкусу такой пищи и так же {{р...</td>\n",
       "      <td>Дети привыкают к вкусу такой пищи и так же рек...</td>\n",
       "      <td>orpho</td>\n",
       "      <td>превычки</td>\n",
       "      <td></td>\n",
       "      <td>admin</td>\n",
       "      <td></td>\n",
       "    </tr>\n",
       "    <tr>\n",
       "      <th>1029</th>\n",
       "      <td>426</td>\n",
       "      <td>Anna (F, HL, AL)</td>\n",
       "      <td>eng</td>\n",
       "      <td>HL</td>\n",
       "      <td>AL</td>\n",
       "      <td>{{По}} {{статистике}}, {{если}} {{у}} {{одного...</td>\n",
       "      <td>По статистике если у одного родителя избыточны...</td>\n",
       "      <td>syntax</td>\n",
       "      <td></td>\n",
       "      <td>у</td>\n",
       "      <td>admin</td>\n",
       "      <td></td>\n",
       "    </tr>\n",
       "    <tr>\n",
       "      <th>1030</th>\n",
       "      <td>427</td>\n",
       "      <td>Anna (F, HL, AL)</td>\n",
       "      <td>eng</td>\n",
       "      <td>HL</td>\n",
       "      <td>AL</td>\n",
       "      <td>{{между}} 16% и 33% детей и подростков имели и...</td>\n",
       "      <td>между 16% и 33% детей и подростков имели избыт...</td>\n",
       "      <td>syntax</td>\n",
       "      <td>между</td>\n",
       "      <td></td>\n",
       "      <td>admin</td>\n",
       "      <td></td>\n",
       "    </tr>\n",
       "    <tr>\n",
       "      <th>1031</th>\n",
       "      <td>428</td>\n",
       "      <td>Anna (F, HL, AL)</td>\n",
       "      <td>eng</td>\n",
       "      <td>HL</td>\n",
       "      <td>AL</td>\n",
       "      <td>Две {{главные}} причины: расширение сфер влиян...</td>\n",
       "      <td>Две * и* причины: расширение сфер влияния СССР...</td>\n",
       "      <td>Syntax</td>\n",
       "      <td>.</td>\n",
       "      <td>и</td>\n",
       "      <td>NGordeev</td>\n",
       "      <td>Необоснованный разрыв предложения</td>\n",
       "    </tr>\n",
       "  </tbody>\n",
       "</table>\n",
       "<p>1032 rows × 12 columns</p>\n",
       "</div>"
      ],
      "text/plain": [
       "      Номер примера              Автор Язык Русский язык Уровень  \\\n",
       "0                 1  Katya (F, HL, AM)  eng           HL      AM   \n",
       "1                 1  Katya (F, HL, AM)  eng           HL      AM   \n",
       "2                 2  Katya (F, HL, AM)  eng           HL      AM   \n",
       "3                 3   Olga (F, HL, AL)  eng           HL      AL   \n",
       "4                 3   Olga (F, HL, AL)  eng           HL      AL   \n",
       "...             ...                ...  ...          ...     ...   \n",
       "1027            425   Anna (F, HL, AL)  eng           HL      AL   \n",
       "1028            425   Anna (F, HL, AL)  eng           HL      AL   \n",
       "1029            426   Anna (F, HL, AL)  eng           HL      AL   \n",
       "1030            427   Anna (F, HL, AL)  eng           HL      AL   \n",
       "1031            428   Anna (F, HL, AL)  eng           HL      AL   \n",
       "\n",
       "                               Оригинальное предложение  \\\n",
       "0     Этот металл может сохраняться в организме чело...   \n",
       "1     Этот металл может сохраняться в организме чело...   \n",
       "2     Основной путь попадания свинца в организм - {{...   \n",
       "3     Стали строил монументальные здания чтобы эти з...   \n",
       "4     Стали строил монументальные здания чтобы эти з...   \n",
       "...                                                 ...   \n",
       "1027  Дети привыкают к вкусу такой пищи и так же {{р...   \n",
       "1028  Дети привыкают к вкусу такой пищи и так же {{р...   \n",
       "1029  {{По}} {{статистике}}, {{если}} {{у}} {{одного...   \n",
       "1030  {{между}} 16% и 33% детей и подростков имели и...   \n",
       "1031  Две {{главные}} причины: расширение сфер влиян...   \n",
       "\n",
       "                               Исправленное предложение  \\\n",
       "0     Этот металл может сохраняться в организме чело...   \n",
       "1     Этот металл может сохраняться в организме чело...   \n",
       "2     Основной путь попадания свинца в организм - * ...   \n",
       "3     *Сталин* строил монументальные *здания,* чтобы...   \n",
       "4     *Сталин* строил монументальные *здания,* чтобы...   \n",
       "...                                                 ...   \n",
       "1027  Дети привыкают к вкусу такой пищи и так же рек...   \n",
       "1028  Дети привыкают к вкусу такой пищи и так же рек...   \n",
       "1029  По статистике если у одного родителя избыточны...   \n",
       "1030  между 16% и 33% детей и подростков имели избыт...   \n",
       "1031  Две * и* причины: расширение сфер влияния СССР...   \n",
       "\n",
       "                           Тег              Ошибка         Исправление  \\\n",
       "0                       Syntax         воздействую         воздействуя   \n",
       "1                Ortho, Altern  желудожно-кишечный  желудочно-кишечный   \n",
       "2     Syntax, Insert, Transfer                 это                       \n",
       "3                        Ortho               Стали              Сталин   \n",
       "4                          Ref          эти здания                 они   \n",
       "...                        ...                 ...                 ...   \n",
       "1027                    syntax            рекламам                       \n",
       "1028                     orpho            превычки                       \n",
       "1029                    syntax                                      у    \n",
       "1030                    syntax               между                       \n",
       "1031                    Syntax                   .                   и   \n",
       "\n",
       "            Разметчик                        Комментарий  \n",
       "0          Annotator1                                     \n",
       "1     MZambrzhitskaya                                     \n",
       "2          Annotator1                                     \n",
       "3       ubagryanskaya                                     \n",
       "4       ubagryanskaya                                     \n",
       "...               ...                                ...  \n",
       "1027            admin                                     \n",
       "1028            admin                                     \n",
       "1029            admin                                     \n",
       "1030            admin                                     \n",
       "1031         NGordeev  Необоснованный разрыв предложения  \n",
       "\n",
       "[1032 rows x 12 columns]"
      ]
     },
     "execution_count": 7,
     "metadata": {},
     "output_type": "execute_result"
    }
   ],
   "source": [
    "df_1_rlc"
   ]
  },
  {
   "cell_type": "code",
   "execution_count": 8,
   "id": "5d493dcc",
   "metadata": {},
   "outputs": [],
   "source": [
    "def to_str(df):\n",
    "    str_for_dict = (df['Оригинальное предложение'] + ' | ' + df['Тег'] + ' | ' + df['Ошибка']+ ' | ' + df['Исправление']).to_list()\n",
    "    return str_for_dict"
   ]
  },
  {
   "cell_type": "code",
   "execution_count": 9,
   "id": "de703fdf",
   "metadata": {},
   "outputs": [],
   "source": [
    "list_1_rlc = to_str(df_1_rlc)"
   ]
  },
  {
   "cell_type": "code",
   "execution_count": 10,
   "id": "d8f38ba4",
   "metadata": {},
   "outputs": [],
   "source": [
    "def dict_from_list(list_from_str):\n",
    "    dict_df_rlc = {}\n",
    "\n",
    "    for element in tqdm(list_from_str):\n",
    "        element = element.split(' | ')\n",
    "        sentence = element[0]\n",
    "        sentence = sentence.replace('{{', '')\n",
    "        sentence = sentence.replace('}}', '')\n",
    "        if sentence[0] != '&':\n",
    "            if sentence[0] == '.':\n",
    "                sentence = sentence[1:] \n",
    "            if sentence[len(sentence)-1] != '.':\n",
    "                sentence = sentence + '.'\n",
    "            if '?' in sentence:\n",
    "                line = sentence.split('? ')\n",
    "                if len(line) > 1:\n",
    "                    if line[0] not in dict_df_rlc:\n",
    "                        line[0] = line[0]+'?'\n",
    "                        dict_df_rlc[line[0]] = dict({'Tag': [], 'Mistake': [], 'Correct': []})\n",
    "                        dict_df_rlc[line[0]]['Tag'].append(element[1])\n",
    "                        dict_df_rlc[line[0]]['Mistake'].append(element[2])\n",
    "                        dict_df_rlc[line[0]]['Correct'].append(element[3])\n",
    "                    if line[1]not in dict_df_rlc:\n",
    "                        dict_df_rlc[line[1]] = dict({'Tag': [], 'Mistake': [], 'Correct': []})\n",
    "                        dict_df_rlc[line[1]]['Tag'].append(element[1])\n",
    "                        dict_df_rlc[line[1]]['Mistake'].append(element[2])\n",
    "                        dict_df_rlc[line[1]]['Correct'].append(element[3])\n",
    "            elif sentence not in dict_df_rlc:\n",
    "                dict_df_rlc[sentence] = dict({'Tag': [], 'Mistake': [], 'Correct': []})\n",
    "                dict_df_rlc[sentence]['Tag'].append(element[1])\n",
    "                dict_df_rlc[sentence]['Mistake'].append(element[2])\n",
    "                dict_df_rlc[sentence]['Correct'].append(element[3])\n",
    "    return dict_df_rlc"
   ]
  },
  {
   "cell_type": "code",
   "execution_count": 11,
   "id": "69e01c3c",
   "metadata": {
    "scrolled": true
   },
   "outputs": [
    {
     "name": "stderr",
     "output_type": "stream",
     "text": [
      "100%|██████████████████████████████████████████████████████████████████████████| 1032/1032 [00:00<00:00, 262191.64it/s]\n"
     ]
    }
   ],
   "source": [
    "dict_df_1_rlc = dict_from_list(list_1_rlc)"
   ]
  },
  {
   "cell_type": "code",
   "execution_count": 271,
   "id": "e9acb921",
   "metadata": {},
   "outputs": [],
   "source": [
    "def to_file_for_udpipe(dict_rlc):\n",
    "    with open('original_rlc.txt', 'a', encoding = 'utf-8') as f:\n",
    "        for element in dict_rlc:\n",
    "            f.write(element)\n",
    "            f.write('\\n')\n",
    "    return f"
   ]
  },
  {
   "cell_type": "code",
   "execution_count": 19,
   "id": "f17eb706",
   "metadata": {},
   "outputs": [
    {
     "data": {
      "text/plain": [
       "<_io.TextIOWrapper name='original_rlc.txt' mode='a' encoding='utf-8'>"
      ]
     },
     "execution_count": 19,
     "metadata": {},
     "output_type": "execute_result"
    }
   ],
   "source": [
    "to_file_for_udpipe(dict_df_1_rlc)"
   ]
  },
  {
   "cell_type": "markdown",
   "id": "1eb98dad",
   "metadata": {},
   "source": [
    "Работаем с расшифровками."
   ]
  },
  {
   "cell_type": "code",
   "execution_count": 55,
   "id": "5c83ff00",
   "metadata": {},
   "outputs": [],
   "source": [
    "def from_file(path_text):\n",
    "    with open('all_texts.txt', 'a', encoding='utf-8') as f_main:\n",
    "        for filename in os.listdir(path_text):\n",
    "            with open(os.path.join(path_text, filename), 'r') as f:\n",
    "                for line in f.readlines():\n",
    "                    if '*CHI:' in line:\n",
    "                        if '\\\\tab' in line:\n",
    "                            line = line.split('\\\\tab')\n",
    "                        elif '\\t' in line:\n",
    "                            line = line.split('\\t')\n",
    "                        line_new = line[1]\n",
    "                        line_new = line_new[:-2]\n",
    "                        f_main.write(line_new)\n",
    "                        f_main.write('\\n')\n",
    "    return f_main"
   ]
  },
  {
   "cell_type": "code",
   "execution_count": 56,
   "id": "6ef129a3",
   "metadata": {},
   "outputs": [
    {
     "data": {
      "text/plain": [
       "<_io.TextIOWrapper name='all_texts.txt' mode='a' encoding='utf-8'>"
      ]
     },
     "execution_count": 56,
     "metadata": {},
     "output_type": "execute_result"
    }
   ],
   "source": [
    "from_file('texts_transl')"
   ]
  },
  {
   "cell_type": "code",
   "execution_count": 57,
   "id": "91764b5c",
   "metadata": {},
   "outputs": [],
   "source": [
    "def translit_to_rus(file):\n",
    "    lines = []\n",
    "    with open('all_texts.txt', 'r', encoding='utf-8') as f:\n",
    "        with open('translit.txt', 'a', encoding='utf-8') as f2:  \n",
    "            for line in f.readlines():\n",
    "                ru_text = translit(line, 'ru')\n",
    "                ru_text = ru_text.replace('@', '')\n",
    "                ru_text = ru_text.replace('[', '')\n",
    "                ru_text = ru_text.replace(']', '')\n",
    "                ru_text = ru_text.replace('+/', '')\n",
    "                ru_text = ru_text.replace('/', '')\n",
    "                ru_text = ru_text.replace('#', '')\n",
    "                ru_text = ru_text.replace('=', '')\n",
    "                ru_text = ru_text.replace('&', '')\n",
    "                ru_text = ru_text.replace('2', '')\n",
    "                ru_text = ru_text.replace('0', '')\n",
    "                ru_text = ru_text.replace('е~', 'э')\n",
    "                ru_text = ru_text.replace('Е~', 'Э')\n",
    "                if ru_text[-2] != '.' and ru_text[-2] != '?':\n",
    "                    ru_text = ru_text.replace(ru_text[-1], '.\\n')\n",
    "                if len(ru_text.split()) > 3:\n",
    "                    if 'xxx' not in ru_text:\n",
    "                        if ru_text not in lines:\n",
    "                            f2.write(ru_text)\n",
    "                            lines.append(ru_text)\n",
    "    return f2"
   ]
  },
  {
   "cell_type": "code",
   "execution_count": 58,
   "id": "081ad1d5",
   "metadata": {
    "scrolled": true
   },
   "outputs": [
    {
     "data": {
      "text/plain": [
       "<_io.TextIOWrapper name='translit.txt' mode='a' encoding='utf-8'>"
      ]
     },
     "execution_count": 58,
     "metadata": {},
     "output_type": "execute_result"
    }
   ],
   "source": [
    "translit_to_rus('all_texts.txt')"
   ]
  },
  {
   "cell_type": "markdown",
   "id": "b4f1795c",
   "metadata": {},
   "source": [
    "Расшифровки без транслитерации"
   ]
  },
  {
   "cell_type": "code",
   "execution_count": 47,
   "id": "dff5625d",
   "metadata": {},
   "outputs": [],
   "source": [
    "def txt_rus(path_text):\n",
    "    lines = []\n",
    "    with open('txt_rus.txt', 'a', encoding='utf-8') as f_main:\n",
    "        for filename in os.listdir(path_text):\n",
    "            with open(os.path.join(path_text, filename), 'r', encoding='utf-16-le') as f:\n",
    "                for line in f.readlines():\n",
    "                    if '*CHI:' in line:\n",
    "                        line = line.split('\\t')\n",
    "                        line_new = line[1]\n",
    "                        line_new = line_new.replace('&', '')\n",
    "                        line_new = line_new.replace('@', '')\n",
    "                        line_new = line_new.replace('[', '')\n",
    "                        line_new = line_new.replace(']', '')\n",
    "                        line_new = line_new.replace('2', '')\n",
    "                        line_new = line_new.replace('+/', '')\n",
    "                        line_new = line_new.replace('#', '')\n",
    "                        line_new = line_new.replace('(', '')\n",
    "                        line_new = line_new.replace(')', '')\n",
    "                        line_new = line_new.replace('2', '')\n",
    "                        line_new = line_new.replace('/', '')\n",
    "                        line_new = line_new.replace('errv-', '')\n",
    "                        if len(line_new.split()) > 3:\n",
    "                            if ('xxx' not in line_new) and ('ххх' not in line_new) and ('=' not in line_new):\n",
    "                                if line_new not in lines:\n",
    "                                    f_main.write(line_new)\n",
    "                                    lines.append(line_new)\n",
    "    return f_main"
   ]
  },
  {
   "cell_type": "code",
   "execution_count": 48,
   "id": "799c4999",
   "metadata": {
    "scrolled": true
   },
   "outputs": [
    {
     "data": {
      "text/plain": [
       "<_io.TextIOWrapper name='txt_rus.txt' mode='a' encoding='utf-8'>"
      ]
     },
     "execution_count": 48,
     "metadata": {},
     "output_type": "execute_result"
    }
   ],
   "source": [
    "txt_rus('texts')"
   ]
  },
  {
   "cell_type": "markdown",
   "id": "7deb4e0e",
   "metadata": {},
   "source": [
    "------------------------------------------------------------------"
   ]
  },
  {
   "cell_type": "markdown",
   "id": "1fd661ac",
   "metadata": {},
   "source": [
    "Работа с примерами из RLC"
   ]
  },
  {
   "cell_type": "code",
   "execution_count": 427,
   "id": "286bf299",
   "metadata": {
    "scrolled": true
   },
   "outputs": [],
   "source": [
    "#dict_df_1_rlc #словарь с тэгами и ошибками"
   ]
  },
  {
   "cell_type": "markdown",
   "id": "b4535214",
   "metadata": {},
   "source": [
    "Его руками пришлось подправить, так как UDPipe в самом конце разбил одну строчку на 2 предложения, а в другом случае не сделал этого."
   ]
  },
  {
   "cell_type": "code",
   "execution_count": 298,
   "id": "632645ee",
   "metadata": {},
   "outputs": [],
   "source": [
    "dict_df_1_rlc['По статистике, если у одного родителя избыточный вес, у их ребенка возможность ожирения уже 50%. между 16% и 33% детей и подростков имели избыточный вес.'] = {'Tag': ['Syntax', 'syntax'],\n",
    "  'Mistake': ['', 'между'],\n",
    "  'Correct': ['у ', '']}\n",
    "del dict_df_1_rlc['По статистике, если у одного родителя избыточный вес, у их ребенка возможность ожирения уже 50%.']\n",
    "del dict_df_1_rlc['между 16% и 33% детей и подростков имели избыточный вес.']\n",
    "del dict_df_1_rlc['Две главные причины: расширение сфер влияния СССР доктрина сдерживания социализма).']\n",
    "dict_df_1_rlc['Две главные причины: расширение сфер влияния СССР доктрина сдерживания социализма).'] = {'Tag': ['Syntax'],\n",
    "  'Mistake': ['.'],\n",
    "  'Correct': [' и']}"
   ]
  },
  {
   "cell_type": "markdown",
   "id": "a694e4c3",
   "metadata": {},
   "source": [
    "Функция для прочтения conllu"
   ]
  },
  {
   "cell_type": "code",
   "execution_count": 2,
   "id": "e4cff19f",
   "metadata": {},
   "outputs": [],
   "source": [
    "def read_conllu(file):\n",
    "    sent_list = []\n",
    "    with open(file, 'r', encoding='utf-8') as f:\n",
    "        lines = f.readlines()\n",
    "        sent_lines = []\n",
    "        for line in lines:\n",
    "            line = line.strip()\n",
    "            if not line:\n",
    "                if sent_lines:\n",
    "                    sent_list.append(sent_lines)\n",
    "                    sent_lines = []\n",
    "            else:\n",
    "                sent_lines.append(line)\n",
    "        if sent_lines:\n",
    "            sent_list.append(sent_lines)\n",
    "    return sent_list\n"
   ]
  },
  {
   "cell_type": "markdown",
   "id": "a90ccea5",
   "metadata": {},
   "source": [
    "Функция для записи conllu"
   ]
  },
  {
   "cell_type": "code",
   "execution_count": 369,
   "id": "d3fdff87",
   "metadata": {},
   "outputs": [],
   "source": [
    "def write_conllu(sent_list, file_path):\n",
    "    with open(file_path, 'w', encoding='utf-8') as f:\n",
    "        for sent in sent_list:\n",
    "            f.write(sent)\n",
    "            f.write('\\n')"
   ]
  },
  {
   "cell_type": "code",
   "execution_count": 3,
   "id": "b22d53a2",
   "metadata": {},
   "outputs": [],
   "source": [
    "sent_list = read_conllu('1_rlc.conllu')"
   ]
  },
  {
   "cell_type": "markdown",
   "id": "76fb2387",
   "metadata": {},
   "source": [
    "Стараемся перенести почти все исправленные ошибки в MISC"
   ]
  },
  {
   "cell_type": "code",
   "execution_count": 12,
   "id": "6c03ae1a",
   "metadata": {
    "scrolled": false
   },
   "outputs": [],
   "source": [
    "# проход по предложениям в файле и сравнение со словарем\n",
    "flag = False\n",
    "sent_new = []\n",
    "not_in_file = []\n",
    "\n",
    "for sent in sent_list:\n",
    "    sent_text = ''\n",
    "    for line in sent:\n",
    "        if '# text' in line:\n",
    "            sent_full = line[9:]\n",
    "            sent_new.append(line)\n",
    "        elif '#' not in line:\n",
    "            line_word = line.split('\\t')\n",
    "            # извлекаем слово из строки\n",
    "            word = line_word[1]\n",
    "            # проверяем, есть ли слово в списке ошибок для данного предложения\n",
    "            try: \n",
    "                for i in range(len(dict_df_1_rlc[sent_full]['Mistake'])):\n",
    "                    mistake = dict_df_1_rlc[sent_full]['Mistake'][i]\n",
    "                    tag = dict_df_1_rlc[sent_full]['Tag']\n",
    "                    tag = tag[0].split(', ')\n",
    "                    if mistake == word:\n",
    "                        for t in range(len(tag)):\n",
    "                            if tag[t] != 'Insert' and tag[t] not in line_word[9]:\n",
    "                                if str(dict_df_1_rlc[sent_full]['Correct'][i]) != ' ':\n",
    "                                    line_word[9] = ''.join([tag[t], '=', str(dict_df_1_rlc[sent_full]['Correct'][i])])\n",
    "                                else:\n",
    "                                    line_word[9] = ''.join(tag[t])\n",
    "                                x = t+1\n",
    "                                while x != len(tag):\n",
    "                                    line_word[9] = line_word[9]+'|'+ tag[x]\n",
    "                                    x+=1\n",
    "                        line_new = '\\t'.join(line_word)\n",
    "                        sent_new.append(line_new)\n",
    "                    else:\n",
    "                         sent_new.append(line)              \n",
    "            except KeyError:\n",
    "                sent_new.append(line)\n",
    "                not_in_file.append(line)\n",
    "        else:\n",
    "            sent_new.append('\\n')\n",
    "            sent_new.append(line)\n",
    "            not_in_file.append(line)"
   ]
  },
  {
   "cell_type": "code",
   "execution_count": 426,
   "id": "e3171335",
   "metadata": {},
   "outputs": [],
   "source": [
    "write_conllu(sent_new, 'sentences_rlc_meta.conllu')"
   ]
  },
  {
   "cell_type": "markdown",
   "id": "6c6f1037",
   "metadata": {},
   "source": [
    "Посмотрим на те метки, которые не попали в файл"
   ]
  },
  {
   "cell_type": "code",
   "execution_count": 31,
   "id": "ce2c98be",
   "metadata": {},
   "outputs": [],
   "source": [
    "#not_in_file"
   ]
  },
  {
   "cell_type": "code",
   "execution_count": 26,
   "id": "6c0222df",
   "metadata": {},
   "outputs": [],
   "source": [
    "check = []\n",
    "\n",
    "for i in range(len(not_in_file)-1):\n",
    "    if '#' in not_in_file[i] and '1\\t' in not_in_file[i+1]:\n",
    "        check.append(not_in_file[i])"
   ]
  },
  {
   "cell_type": "markdown",
   "id": "881872aa",
   "metadata": {},
   "source": [
    "Попытка найти ошибки в расшифровке"
   ]
  },
  {
   "cell_type": "code",
   "execution_count": 19,
   "id": "934e83e3",
   "metadata": {},
   "outputs": [],
   "source": [
    "morph = pymorphy2.MorphAnalyzer()\n",
    "spell = pyaspeller.YandexSpeller()"
   ]
  },
  {
   "cell_type": "code",
   "execution_count": 21,
   "id": "d4a5003a",
   "metadata": {},
   "outputs": [
    {
     "name": "stderr",
     "output_type": "stream",
     "text": [
      "100%|██████████████████████████████████████████████████████████████████████████████| 1486/1486 [02:20<00:00, 10.57it/s]\n"
     ]
    }
   ],
   "source": [
    "mistake_dict = {}\n",
    "\n",
    "with open('txt_rus.txt', 'r', encoding='utf-8') as f:\n",
    "    text = f.read()\n",
    "\n",
    "words = text.split()\n",
    "for word in tqdm(words):\n",
    "    check = Word(word)\n",
    "    if check.correct == False:\n",
    "        mistake_dict[word] = check.variants"
   ]
  },
  {
   "cell_type": "code",
   "execution_count": 22,
   "id": "cafc1b69",
   "metadata": {},
   "outputs": [
    {
     "data": {
      "text/plain": [
       "{'потерятся,': ['потеряться', 'потерялся', 'потеряется', 'потеряются'],\n",
       " 'побежать.': ['побеждать', 'пробежать', 'побегать']}"
      ]
     },
     "execution_count": 22,
     "metadata": {},
     "output_type": "execute_result"
    }
   ],
   "source": [
    "mistake_dict"
   ]
  },
  {
   "cell_type": "code",
   "execution_count": 34,
   "id": "7e0be8b6",
   "metadata": {},
   "outputs": [
    {
     "name": "stderr",
     "output_type": "stream",
     "text": [
      "100%|██████████████████████████████████████████████████████████████████████████████| 2660/2660 [03:54<00:00, 11.32it/s]\n"
     ]
    }
   ],
   "source": [
    "mistake_dict_translit = {}\n",
    "\n",
    "with open('translit.txt', 'r', encoding='utf-8') as f:\n",
    "    text = f.read()\n",
    "\n",
    "words = text.split()\n",
    "for word in tqdm(words):\n",
    "    check = Word(word)\n",
    "    if check.correct == False:\n",
    "        mistake_dict_translit[word] = check.variants"
   ]
  },
  {
   "cell_type": "code",
   "execution_count": 36,
   "id": "2dddcd42",
   "metadata": {},
   "outputs": [],
   "source": [
    "#mistake_dict_translit"
   ]
  },
  {
   "cell_type": "markdown",
   "id": "e7a7683a",
   "metadata": {},
   "source": [
    "------------------------------------------------------------------------------"
   ]
  },
  {
   "cell_type": "markdown",
   "id": "4e6f3043",
   "metadata": {},
   "source": [
    "Записываем всё в один файл"
   ]
  },
  {
   "cell_type": "code",
   "execution_count": 72,
   "id": "b8f6a352",
   "metadata": {
    "scrolled": false
   },
   "outputs": [],
   "source": [
    "folder_path = 'file_conllu'\n",
    "\n",
    "sentence_number = 1\n",
    "\n",
    "with open('Heritage_rus_corpus_2.conllu', 'a', encoding='utf-8') as f:\n",
    "    for file_name in os.listdir(folder_path): \n",
    "        file_path = os.path.join(folder_path, file_name)\n",
    "        with open(file_path, 'r', encoding='utf-8') as f2:\n",
    "            for line in f2:\n",
    "                if line.startswith(''# sent_id =''):\n",
    "                    line = '# sent_id = ' + str(sentence_number)\n",
    "                    sentence_number += 1\n",
    "                if line[-1]!='\\n':\n",
    "                    f.write(line)\n",
    "                    f.write('\\n')\n",
    "                else:\n",
    "                    f.write(line)"
   ]
  },
  {
   "cell_type": "code",
   "execution_count": 12,
   "id": "699aef3d",
   "metadata": {},
   "outputs": [],
   "source": [
    "with open('Heritage_rus_corpus.conllu', 'a', encoding='utf-8') as f2:\n",
    "    with open('Heritage_rus_corpus_2.conllu', 'r', encoding='utf-8') as f:\n",
    "        last_line = ''\n",
    "        for line in f:\n",
    "            if '# sent_id' in last_line:\n",
    "                if int(last_line[12:]) < 410:\n",
    "                    f2.write('# Metadata = студент | письменная речь | литературный стиль | университет')\n",
    "                    f2.write('\\n')\n",
    "                else:\n",
    "                    f2.write('# Metadata = ребёнок дошкольного возраста | устная речь | разговорный стиль | дом')\n",
    "                    f2.write('\\n')\n",
    "            if last_line == '\\n' and line =='\\n':\n",
    "                line = ''\n",
    "            f2.write(line)\n",
    "            last_line = line"
   ]
  },
  {
   "cell_type": "code",
   "execution_count": null,
   "id": "a9c5f2c2",
   "metadata": {},
   "outputs": [],
   "source": []
  }
 ],
 "metadata": {
  "kernelspec": {
   "display_name": "Python 3 (ipykernel)",
   "language": "python",
   "name": "python3"
  },
  "language_info": {
   "codemirror_mode": {
    "name": "ipython",
    "version": 3
   },
   "file_extension": ".py",
   "mimetype": "text/x-python",
   "name": "python",
   "nbconvert_exporter": "python",
   "pygments_lexer": "ipython3",
   "version": "3.9.13"
  }
 },
 "nbformat": 4,
 "nbformat_minor": 5
}
